{
 "cells": [
  {
   "cell_type": "code",
   "execution_count": 1,
   "metadata": {},
   "outputs": [],
   "source": [
    "import pandas as pd\n",
    "\n",
    "# Import libraries for SQL\n",
    "from google.cloud import bigquery #pip install google-cloud-bigquery"
   ]
  },
  {
   "cell_type": "code",
   "execution_count": 2,
   "metadata": {},
   "outputs": [],
   "source": [
    "project='' #Put your project id"
   ]
  },
  {
   "cell_type": "code",
   "execution_count": 3,
   "metadata": {},
   "outputs": [],
   "source": [
    "# Initialize a BigQuery Client\n",
    "client=bigquery.Client(project)"
   ]
  },
  {
   "cell_type": "code",
   "execution_count": 4,
   "metadata": {},
   "outputs": [],
   "source": [
    "# Construct a reference to a dataset \n",
    "dataset_ref=client.dataset('bbc_news', project='bigquery-public-data')"
   ]
  },
  {
   "cell_type": "code",
   "execution_count": 5,
   "metadata": {},
   "outputs": [],
   "source": [
    "# Fetch the dataset\n",
    "dataset=client.get_dataset(dataset_ref)"
   ]
  },
  {
   "cell_type": "code",
   "execution_count": 6,
   "metadata": {},
   "outputs": [],
   "source": [
    "# List all the tables\n",
    "tables=list(client.list_tables(dataset))"
   ]
  },
  {
   "cell_type": "code",
   "execution_count": 7,
   "metadata": {},
   "outputs": [
    {
     "name": "stdout",
     "output_type": "stream",
     "text": [
      "['fulltext']\n"
     ]
    }
   ],
   "source": [
    "# Print their names\n",
    "list_of_tables=[table.table_id for table in tables]\n",
    "print(list_of_tables)"
   ]
  },
  {
   "cell_type": "code",
   "execution_count": 8,
   "metadata": {},
   "outputs": [],
   "source": [
    "\n",
    "# Construct the reference to a table\n",
    "table_ref=dataset_ref.table('fulltext')"
   ]
  },
  {
   "cell_type": "code",
   "execution_count": 9,
   "metadata": {},
   "outputs": [
    {
     "data": {
      "text/plain": [
       "[SchemaField('body', 'STRING', 'NULLABLE', None, None, (), None),\n",
       " SchemaField('title', 'STRING', 'NULLABLE', None, None, (), None),\n",
       " SchemaField('filename', 'STRING', 'NULLABLE', None, None, (), None),\n",
       " SchemaField('category', 'STRING', 'NULLABLE', None, None, (), None)]"
      ]
     },
     "execution_count": 9,
     "metadata": {},
     "output_type": "execute_result"
    }
   ],
   "source": [
    "# Get info on the columns\n",
    "table=client.get_table(table_ref)\n",
    "table.schema"
   ]
  },
  {
   "cell_type": "code",
   "execution_count": 10,
   "metadata": {},
   "outputs": [
    {
     "data": {
      "text/html": [
       "<div>\n",
       "<style scoped>\n",
       "    .dataframe tbody tr th:only-of-type {\n",
       "        vertical-align: middle;\n",
       "    }\n",
       "\n",
       "    .dataframe tbody tr th {\n",
       "        vertical-align: top;\n",
       "    }\n",
       "\n",
       "    .dataframe thead th {\n",
       "        text-align: right;\n",
       "    }\n",
       "</style>\n",
       "<table border=\"1\" class=\"dataframe\">\n",
       "  <thead>\n",
       "    <tr style=\"text-align: right;\">\n",
       "      <th></th>\n",
       "      <th>body</th>\n",
       "      <th>title</th>\n",
       "      <th>filename</th>\n",
       "      <th>category</th>\n",
       "    </tr>\n",
       "  </thead>\n",
       "  <tbody>\n",
       "    <tr>\n",
       "      <th>0</th>\n",
       "      <td>The global web blog community is being called ...</td>\n",
       "      <td>Global blogger action day called</td>\n",
       "      <td>bbc/tech/016.txt</td>\n",
       "      <td>tech</td>\n",
       "    </tr>\n",
       "    <tr>\n",
       "      <th>1</th>\n",
       "      <td>The \"digital divide\" between rich and poor nat...</td>\n",
       "      <td>Global digital divide 'narrowing'</td>\n",
       "      <td>bbc/tech/033.txt</td>\n",
       "      <td>tech</td>\n",
       "    </tr>\n",
       "    <tr>\n",
       "      <th>2</th>\n",
       "      <td>The current slew of sports games offers unpara...</td>\n",
       "      <td>Sporting rivals go to extra time</td>\n",
       "      <td>bbc/tech/056.txt</td>\n",
       "      <td>tech</td>\n",
       "    </tr>\n",
       "    <tr>\n",
       "      <th>3</th>\n",
       "      <td>Writing a Microsoft Word document can be a dan...</td>\n",
       "      <td>Warning over Windows Word files</td>\n",
       "      <td>bbc/tech/086.txt</td>\n",
       "      <td>tech</td>\n",
       "    </tr>\n",
       "    <tr>\n",
       "      <th>4</th>\n",
       "      <td>Aid workers trying to house, feed and clothe m...</td>\n",
       "      <td>Satellite mapping aids Darfur relief</td>\n",
       "      <td>bbc/tech/223.txt</td>\n",
       "      <td>tech</td>\n",
       "    </tr>\n",
       "    <tr>\n",
       "      <th>5</th>\n",
       "      <td>DVDs will be harder to copy thanks to new anti...</td>\n",
       "      <td>DVD copy protection strengthened</td>\n",
       "      <td>bbc/tech/326.txt</td>\n",
       "      <td>tech</td>\n",
       "    </tr>\n",
       "    <tr>\n",
       "      <th>6</th>\n",
       "      <td>UK mobile owners continue to break records wit...</td>\n",
       "      <td>Text message record smashed again</td>\n",
       "      <td>bbc/tech/372.txt</td>\n",
       "      <td>tech</td>\n",
       "    </tr>\n",
       "    <tr>\n",
       "      <th>7</th>\n",
       "      <td>Internet TV has been talked about since the st...</td>\n",
       "      <td>TV's future down the phone line</td>\n",
       "      <td>bbc/tech/394.txt</td>\n",
       "      <td>tech</td>\n",
       "    </tr>\n",
       "    <tr>\n",
       "      <th>8</th>\n",
       "      <td>Intel has unveiled research that could mean da...</td>\n",
       "      <td>Intel unveils laser breakthrough</td>\n",
       "      <td>bbc/tech/019.txt</td>\n",
       "      <td>tech</td>\n",
       "    </tr>\n",
       "    <tr>\n",
       "      <th>9</th>\n",
       "      <td>BBC Sport unveils its new analysis tool Piero ...</td>\n",
       "      <td>Piero gives rugby perspective</td>\n",
       "      <td>bbc/tech/028.txt</td>\n",
       "      <td>tech</td>\n",
       "    </tr>\n",
       "    <tr>\n",
       "      <th>10</th>\n",
       "      <td>Mobile phones are still enjoying a boom time i...</td>\n",
       "      <td>Looks and music to drive mobiles</td>\n",
       "      <td>bbc/tech/064.txt</td>\n",
       "      <td>tech</td>\n",
       "    </tr>\n",
       "    <tr>\n",
       "      <th>11</th>\n",
       "      <td>Nintendo's new handheld console, the DS, will ...</td>\n",
       "      <td>Nintendo handheld given Euro date</td>\n",
       "      <td>bbc/tech/084.txt</td>\n",
       "      <td>tech</td>\n",
       "    </tr>\n",
       "    <tr>\n",
       "      <th>12</th>\n",
       "      <td>A contentious campaign to bump up the bandwidt...</td>\n",
       "      <td>Anti-spam screensaver scrapped</td>\n",
       "      <td>bbc/tech/214.txt</td>\n",
       "      <td>tech</td>\n",
       "    </tr>\n",
       "    <tr>\n",
       "      <th>13</th>\n",
       "      <td>By 2025, 40% of the UK's population will still...</td>\n",
       "      <td>Millions to miss out on the net</td>\n",
       "      <td>bbc/tech/226.txt</td>\n",
       "      <td>tech</td>\n",
       "    </tr>\n",
       "    <tr>\n",
       "      <th>14</th>\n",
       "      <td>If you have finished Doom 3, Half Life 2 and H...</td>\n",
       "      <td>The gaming world in 2005</td>\n",
       "      <td>bbc/tech/244.txt</td>\n",
       "      <td>tech</td>\n",
       "    </tr>\n",
       "    <tr>\n",
       "      <th>15</th>\n",
       "      <td>One person in the UK is joining the internet's...</td>\n",
       "      <td>Broadband in the UK gathers pace</td>\n",
       "      <td>bbc/tech/254.txt</td>\n",
       "      <td>tech</td>\n",
       "    </tr>\n",
       "    <tr>\n",
       "      <th>16</th>\n",
       "      <td>The last 12 months have seen a dramatic growth...</td>\n",
       "      <td>Cyber crime booms in 2004</td>\n",
       "      <td>bbc/tech/281.txt</td>\n",
       "      <td>tech</td>\n",
       "    </tr>\n",
       "    <tr>\n",
       "      <th>17</th>\n",
       "      <td>The Mac mini is the cheapest Apple computer ev...</td>\n",
       "      <td>Rivals of the £400 Apple...</td>\n",
       "      <td>bbc/tech/301.txt</td>\n",
       "      <td>tech</td>\n",
       "    </tr>\n",
       "    <tr>\n",
       "      <th>18</th>\n",
       "      <td>An Austrian village is testing technology that...</td>\n",
       "      <td>Local net TV takes off in Austria</td>\n",
       "      <td>bbc/tech/365.txt</td>\n",
       "      <td>tech</td>\n",
       "    </tr>\n",
       "    <tr>\n",
       "      <th>19</th>\n",
       "      <td>BT is introducing two initiatives to help beat...</td>\n",
       "      <td>BT program to beat dialler scams</td>\n",
       "      <td>bbc/tech/397.txt</td>\n",
       "      <td>tech</td>\n",
       "    </tr>\n",
       "  </tbody>\n",
       "</table>\n",
       "</div>"
      ],
      "text/plain": [
       "                                                 body  \\\n",
       "0   The global web blog community is being called ...   \n",
       "1   The \"digital divide\" between rich and poor nat...   \n",
       "2   The current slew of sports games offers unpara...   \n",
       "3   Writing a Microsoft Word document can be a dan...   \n",
       "4   Aid workers trying to house, feed and clothe m...   \n",
       "5   DVDs will be harder to copy thanks to new anti...   \n",
       "6   UK mobile owners continue to break records wit...   \n",
       "7   Internet TV has been talked about since the st...   \n",
       "8   Intel has unveiled research that could mean da...   \n",
       "9   BBC Sport unveils its new analysis tool Piero ...   \n",
       "10  Mobile phones are still enjoying a boom time i...   \n",
       "11  Nintendo's new handheld console, the DS, will ...   \n",
       "12  A contentious campaign to bump up the bandwidt...   \n",
       "13  By 2025, 40% of the UK's population will still...   \n",
       "14  If you have finished Doom 3, Half Life 2 and H...   \n",
       "15  One person in the UK is joining the internet's...   \n",
       "16  The last 12 months have seen a dramatic growth...   \n",
       "17  The Mac mini is the cheapest Apple computer ev...   \n",
       "18  An Austrian village is testing technology that...   \n",
       "19  BT is introducing two initiatives to help beat...   \n",
       "\n",
       "                                   title          filename category  \n",
       "0       Global blogger action day called  bbc/tech/016.txt     tech  \n",
       "1      Global digital divide 'narrowing'  bbc/tech/033.txt     tech  \n",
       "2       Sporting rivals go to extra time  bbc/tech/056.txt     tech  \n",
       "3        Warning over Windows Word files  bbc/tech/086.txt     tech  \n",
       "4   Satellite mapping aids Darfur relief  bbc/tech/223.txt     tech  \n",
       "5       DVD copy protection strengthened  bbc/tech/326.txt     tech  \n",
       "6      Text message record smashed again  bbc/tech/372.txt     tech  \n",
       "7        TV's future down the phone line  bbc/tech/394.txt     tech  \n",
       "8       Intel unveils laser breakthrough  bbc/tech/019.txt     tech  \n",
       "9          Piero gives rugby perspective  bbc/tech/028.txt     tech  \n",
       "10      Looks and music to drive mobiles  bbc/tech/064.txt     tech  \n",
       "11     Nintendo handheld given Euro date  bbc/tech/084.txt     tech  \n",
       "12        Anti-spam screensaver scrapped  bbc/tech/214.txt     tech  \n",
       "13       Millions to miss out on the net  bbc/tech/226.txt     tech  \n",
       "14              The gaming world in 2005  bbc/tech/244.txt     tech  \n",
       "15      Broadband in the UK gathers pace  bbc/tech/254.txt     tech  \n",
       "16             Cyber crime booms in 2004  bbc/tech/281.txt     tech  \n",
       "17           Rivals of the £400 Apple...  bbc/tech/301.txt     tech  \n",
       "18     Local net TV takes off in Austria  bbc/tech/365.txt     tech  \n",
       "19      BT program to beat dialler scams  bbc/tech/397.txt     tech  "
      ]
     },
     "execution_count": 10,
     "metadata": {},
     "output_type": "execute_result"
    }
   ],
   "source": [
    "# Preview and put the table to a DataFrame\n",
    "df = client.list_rows(table, max_results=20).to_dataframe()\n",
    "df.head(20)"
   ]
  },
  {
   "cell_type": "code",
   "execution_count": null,
   "metadata": {},
   "outputs": [],
   "source": []
  }
 ],
 "metadata": {
  "kernelspec": {
   "display_name": ".venv",
   "language": "python",
   "name": "python3"
  },
  "language_info": {
   "codemirror_mode": {
    "name": "ipython",
    "version": 3
   },
   "file_extension": ".py",
   "mimetype": "text/x-python",
   "name": "python",
   "nbconvert_exporter": "python",
   "pygments_lexer": "ipython3",
   "version": "3.12.4"
  }
 },
 "nbformat": 4,
 "nbformat_minor": 2
}
