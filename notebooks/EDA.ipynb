{
 "cells": [
  {
   "cell_type": "code",
   "execution_count": 3,
   "metadata": {},
   "outputs": [
    {
     "data": {
      "text/plain": [
       "True"
      ]
     },
     "execution_count": 3,
     "metadata": {},
     "output_type": "execute_result"
    }
   ],
   "source": [
    "# Import libraries\n",
    "import pandas as pd\n",
    "from google.cloud import bigquery #pip install google-cloud-bigquery for SQL\n",
    "import seaborn as sns\n",
    "import matplotlib.pyplot as plt\n",
    "# Setting secret credentials\n",
    "from dotenv import load_dotenv #pip install python-dotenv\n",
    "import os\n",
    "load_dotenv()"
   ]
  },
  {
   "cell_type": "code",
   "execution_count": 4,
   "metadata": {},
   "outputs": [],
   "source": [
    "project = os.getenv('BBC_PROJECT_ID')"
   ]
  },
  {
   "cell_type": "code",
   "execution_count": 5,
   "metadata": {},
   "outputs": [],
   "source": [
    "# Initialize a BigQuery Client\n",
    "client=bigquery.Client(project=project)"
   ]
  },
  {
   "cell_type": "code",
   "execution_count": 6,
   "metadata": {},
   "outputs": [],
   "source": [
    "# Construct a reference to a dataset \n",
    "dataset_ref=client.dataset('bbc_news', project='bigquery-public-data')"
   ]
  },
  {
   "cell_type": "code",
   "execution_count": 7,
   "metadata": {},
   "outputs": [],
   "source": [
    "# Fetch the dataset\n",
    "dataset=client.get_dataset(dataset_ref)"
   ]
  },
  {
   "cell_type": "code",
   "execution_count": 8,
   "metadata": {},
   "outputs": [],
   "source": [
    "# List all the tables\n",
    "tables=list(client.list_tables(dataset))"
   ]
  },
  {
   "cell_type": "code",
   "execution_count": 9,
   "metadata": {},
   "outputs": [
    {
     "name": "stdout",
     "output_type": "stream",
     "text": [
      "['fulltext']\n"
     ]
    }
   ],
   "source": [
    "# Print their names\n",
    "list_of_tables=[table.table_id for table in tables]\n",
    "print(list_of_tables)"
   ]
  },
  {
   "cell_type": "code",
   "execution_count": 10,
   "metadata": {},
   "outputs": [],
   "source": [
    "# Construct the reference to a table\n",
    "table_ref=dataset_ref.table('fulltext')"
   ]
  },
  {
   "cell_type": "code",
   "execution_count": 11,
   "metadata": {},
   "outputs": [
    {
     "data": {
      "text/plain": [
       "[SchemaField('body', 'STRING', 'NULLABLE', None, None, (), None),\n",
       " SchemaField('title', 'STRING', 'NULLABLE', None, None, (), None),\n",
       " SchemaField('filename', 'STRING', 'NULLABLE', None, None, (), None),\n",
       " SchemaField('category', 'STRING', 'NULLABLE', None, None, (), None)]"
      ]
     },
     "execution_count": 11,
     "metadata": {},
     "output_type": "execute_result"
    }
   ],
   "source": [
    "# Get info on the columns\n",
    "table=client.get_table(table_ref)\n",
    "table.schema"
   ]
  },
  {
   "cell_type": "code",
   "execution_count": 12,
   "metadata": {},
   "outputs": [
    {
     "name": "stdout",
     "output_type": "stream",
     "text": [
      "This query will process 95295 bytes.\n"
     ]
    }
   ],
   "source": [
    "query = \"\"\"\n",
    "SELECT category, title\n",
    "FROM  `bigquery-public-data.bbc_news.fulltext`\n",
    "WHERE category = 'politics'\n",
    "ORDER BY title\n",
    "\"\"\"\n",
    "dry_run_config = bigquery.QueryJobConfig(dry_run=True)\n",
    "# Run dry run\n",
    "dry_run_query_job = client.query(query, job_config=dry_run_config)\n",
    "\n",
    "# Check the number of bytes the query would process\n",
    "print(f\"This query will process {dry_run_query_job.total_bytes_processed} bytes.\")\n"
   ]
  },
  {
   "cell_type": "code",
   "execution_count": 13,
   "metadata": {},
   "outputs": [
    {
     "name": "stderr",
     "output_type": "stream",
     "text": [
      "/Users/anna_verbytska/Documents/BBC-News/.venv/lib/python3.12/site-packages/google/cloud/bigquery/table.py:1727: UserWarning: BigQuery Storage module not found, fetch data with the REST endpoint instead.\n",
      "  warnings.warn(\n"
     ]
    },
    {
     "data": {
      "text/html": [
       "<div>\n",
       "<style scoped>\n",
       "    .dataframe tbody tr th:only-of-type {\n",
       "        vertical-align: middle;\n",
       "    }\n",
       "\n",
       "    .dataframe tbody tr th {\n",
       "        vertical-align: top;\n",
       "    }\n",
       "\n",
       "    .dataframe thead th {\n",
       "        text-align: right;\n",
       "    }\n",
       "</style>\n",
       "<table border=\"1\" class=\"dataframe\">\n",
       "  <thead>\n",
       "    <tr style=\"text-align: right;\">\n",
       "      <th></th>\n",
       "      <th>category</th>\n",
       "      <th>title</th>\n",
       "    </tr>\n",
       "  </thead>\n",
       "  <tbody>\n",
       "    <tr>\n",
       "      <th>0</th>\n",
       "      <td>politics</td>\n",
       "      <td>'Best person' for top legal job</td>\n",
       "    </tr>\n",
       "    <tr>\n",
       "      <th>1</th>\n",
       "      <td>politics</td>\n",
       "      <td>'Debate needed' on donations cap</td>\n",
       "    </tr>\n",
       "    <tr>\n",
       "      <th>2</th>\n",
       "      <td>politics</td>\n",
       "      <td>'Debate needed' on donations cap</td>\n",
       "    </tr>\n",
       "    <tr>\n",
       "      <th>3</th>\n",
       "      <td>politics</td>\n",
       "      <td>'EU referendum could cost £80m'</td>\n",
       "    </tr>\n",
       "    <tr>\n",
       "      <th>4</th>\n",
       "      <td>politics</td>\n",
       "      <td>'Errors' doomed first Dome sale</td>\n",
       "    </tr>\n",
       "    <tr>\n",
       "      <th>...</th>\n",
       "      <td>...</td>\n",
       "      <td>...</td>\n",
       "    </tr>\n",
       "    <tr>\n",
       "      <th>412</th>\n",
       "      <td>politics</td>\n",
       "      <td>Whitehall shredding increasing - Tories</td>\n",
       "    </tr>\n",
       "    <tr>\n",
       "      <th>413</th>\n",
       "      <td>politics</td>\n",
       "      <td>Will Tory tax cuts lift spirits?</td>\n",
       "    </tr>\n",
       "    <tr>\n",
       "      <th>414</th>\n",
       "      <td>politics</td>\n",
       "      <td>Will the Budget bring out smiling voters?</td>\n",
       "    </tr>\n",
       "    <tr>\n",
       "      <th>415</th>\n",
       "      <td>politics</td>\n",
       "      <td>Women MPs reveal sexist taunts</td>\n",
       "    </tr>\n",
       "    <tr>\n",
       "      <th>416</th>\n",
       "      <td>politics</td>\n",
       "      <td>Woolf murder sentence rethink</td>\n",
       "    </tr>\n",
       "  </tbody>\n",
       "</table>\n",
       "<p>417 rows × 2 columns</p>\n",
       "</div>"
      ],
      "text/plain": [
       "     category                                      title\n",
       "0    politics            'Best person' for top legal job\n",
       "1    politics           'Debate needed' on donations cap\n",
       "2    politics           'Debate needed' on donations cap\n",
       "3    politics            'EU referendum could cost £80m'\n",
       "4    politics            'Errors' doomed first Dome sale\n",
       "..        ...                                        ...\n",
       "412  politics    Whitehall shredding increasing - Tories\n",
       "413  politics           Will Tory tax cuts lift spirits?\n",
       "414  politics  Will the Budget bring out smiling voters?\n",
       "415  politics             Women MPs reveal sexist taunts\n",
       "416  politics              Woolf murder sentence rethink\n",
       "\n",
       "[417 rows x 2 columns]"
      ]
     },
     "execution_count": 13,
     "metadata": {},
     "output_type": "execute_result"
    }
   ],
   "source": [
    "safe_config = bigquery.QueryJobConfig(maximum_bytes_billed = 10**10) # 1MB limit  # 10 GB limit - maximum_bytes_billed=10**10\n",
    "safe_query_job=client.query(query, job_config=safe_config)\n",
    "safe_query_job.to_dataframe()"
   ]
  },
  {
   "cell_type": "code",
   "execution_count": 14,
   "metadata": {},
   "outputs": [
    {
     "name": "stderr",
     "output_type": "stream",
     "text": [
      "/Users/anna_verbytska/Documents/BBC-News/.venv/lib/python3.12/site-packages/google/cloud/bigquery/table.py:1727: UserWarning: BigQuery Storage module not found, fetch data with the REST endpoint instead.\n",
      "  warnings.warn(\n"
     ]
    },
    {
     "data": {
      "text/html": [
       "<div>\n",
       "<style scoped>\n",
       "    .dataframe tbody tr th:only-of-type {\n",
       "        vertical-align: middle;\n",
       "    }\n",
       "\n",
       "    .dataframe tbody tr th {\n",
       "        vertical-align: top;\n",
       "    }\n",
       "\n",
       "    .dataframe thead th {\n",
       "        text-align: right;\n",
       "    }\n",
       "</style>\n",
       "<table border=\"1\" class=\"dataframe\">\n",
       "  <thead>\n",
       "    <tr style=\"text-align: right;\">\n",
       "      <th></th>\n",
       "      <th>body</th>\n",
       "      <th>title</th>\n",
       "      <th>filename</th>\n",
       "      <th>category</th>\n",
       "    </tr>\n",
       "  </thead>\n",
       "  <tbody>\n",
       "    <tr>\n",
       "      <th>0</th>\n",
       "      <td>The global web blog community is being called ...</td>\n",
       "      <td>Global blogger action day called</td>\n",
       "      <td>bbc/tech/016.txt</td>\n",
       "      <td>tech</td>\n",
       "    </tr>\n",
       "    <tr>\n",
       "      <th>1</th>\n",
       "      <td>The \"digital divide\" between rich and poor nat...</td>\n",
       "      <td>Global digital divide 'narrowing'</td>\n",
       "      <td>bbc/tech/033.txt</td>\n",
       "      <td>tech</td>\n",
       "    </tr>\n",
       "    <tr>\n",
       "      <th>2</th>\n",
       "      <td>The current slew of sports games offers unpara...</td>\n",
       "      <td>Sporting rivals go to extra time</td>\n",
       "      <td>bbc/tech/056.txt</td>\n",
       "      <td>tech</td>\n",
       "    </tr>\n",
       "    <tr>\n",
       "      <th>3</th>\n",
       "      <td>Writing a Microsoft Word document can be a dan...</td>\n",
       "      <td>Warning over Windows Word files</td>\n",
       "      <td>bbc/tech/086.txt</td>\n",
       "      <td>tech</td>\n",
       "    </tr>\n",
       "    <tr>\n",
       "      <th>4</th>\n",
       "      <td>Aid workers trying to house, feed and clothe m...</td>\n",
       "      <td>Satellite mapping aids Darfur relief</td>\n",
       "      <td>bbc/tech/223.txt</td>\n",
       "      <td>tech</td>\n",
       "    </tr>\n",
       "    <tr>\n",
       "      <th>5</th>\n",
       "      <td>DVDs will be harder to copy thanks to new anti...</td>\n",
       "      <td>DVD copy protection strengthened</td>\n",
       "      <td>bbc/tech/326.txt</td>\n",
       "      <td>tech</td>\n",
       "    </tr>\n",
       "    <tr>\n",
       "      <th>6</th>\n",
       "      <td>UK mobile owners continue to break records wit...</td>\n",
       "      <td>Text message record smashed again</td>\n",
       "      <td>bbc/tech/372.txt</td>\n",
       "      <td>tech</td>\n",
       "    </tr>\n",
       "    <tr>\n",
       "      <th>7</th>\n",
       "      <td>Internet TV has been talked about since the st...</td>\n",
       "      <td>TV's future down the phone line</td>\n",
       "      <td>bbc/tech/394.txt</td>\n",
       "      <td>tech</td>\n",
       "    </tr>\n",
       "    <tr>\n",
       "      <th>8</th>\n",
       "      <td>Intel has unveiled research that could mean da...</td>\n",
       "      <td>Intel unveils laser breakthrough</td>\n",
       "      <td>bbc/tech/019.txt</td>\n",
       "      <td>tech</td>\n",
       "    </tr>\n",
       "    <tr>\n",
       "      <th>9</th>\n",
       "      <td>BBC Sport unveils its new analysis tool Piero ...</td>\n",
       "      <td>Piero gives rugby perspective</td>\n",
       "      <td>bbc/tech/028.txt</td>\n",
       "      <td>tech</td>\n",
       "    </tr>\n",
       "    <tr>\n",
       "      <th>10</th>\n",
       "      <td>Mobile phones are still enjoying a boom time i...</td>\n",
       "      <td>Looks and music to drive mobiles</td>\n",
       "      <td>bbc/tech/064.txt</td>\n",
       "      <td>tech</td>\n",
       "    </tr>\n",
       "    <tr>\n",
       "      <th>11</th>\n",
       "      <td>Nintendo's new handheld console, the DS, will ...</td>\n",
       "      <td>Nintendo handheld given Euro date</td>\n",
       "      <td>bbc/tech/084.txt</td>\n",
       "      <td>tech</td>\n",
       "    </tr>\n",
       "    <tr>\n",
       "      <th>12</th>\n",
       "      <td>A contentious campaign to bump up the bandwidt...</td>\n",
       "      <td>Anti-spam screensaver scrapped</td>\n",
       "      <td>bbc/tech/214.txt</td>\n",
       "      <td>tech</td>\n",
       "    </tr>\n",
       "    <tr>\n",
       "      <th>13</th>\n",
       "      <td>By 2025, 40% of the UK's population will still...</td>\n",
       "      <td>Millions to miss out on the net</td>\n",
       "      <td>bbc/tech/226.txt</td>\n",
       "      <td>tech</td>\n",
       "    </tr>\n",
       "    <tr>\n",
       "      <th>14</th>\n",
       "      <td>If you have finished Doom 3, Half Life 2 and H...</td>\n",
       "      <td>The gaming world in 2005</td>\n",
       "      <td>bbc/tech/244.txt</td>\n",
       "      <td>tech</td>\n",
       "    </tr>\n",
       "    <tr>\n",
       "      <th>15</th>\n",
       "      <td>One person in the UK is joining the internet's...</td>\n",
       "      <td>Broadband in the UK gathers pace</td>\n",
       "      <td>bbc/tech/254.txt</td>\n",
       "      <td>tech</td>\n",
       "    </tr>\n",
       "    <tr>\n",
       "      <th>16</th>\n",
       "      <td>The last 12 months have seen a dramatic growth...</td>\n",
       "      <td>Cyber crime booms in 2004</td>\n",
       "      <td>bbc/tech/281.txt</td>\n",
       "      <td>tech</td>\n",
       "    </tr>\n",
       "    <tr>\n",
       "      <th>17</th>\n",
       "      <td>The Mac mini is the cheapest Apple computer ev...</td>\n",
       "      <td>Rivals of the £400 Apple...</td>\n",
       "      <td>bbc/tech/301.txt</td>\n",
       "      <td>tech</td>\n",
       "    </tr>\n",
       "    <tr>\n",
       "      <th>18</th>\n",
       "      <td>An Austrian village is testing technology that...</td>\n",
       "      <td>Local net TV takes off in Austria</td>\n",
       "      <td>bbc/tech/365.txt</td>\n",
       "      <td>tech</td>\n",
       "    </tr>\n",
       "    <tr>\n",
       "      <th>19</th>\n",
       "      <td>BT is introducing two initiatives to help beat...</td>\n",
       "      <td>BT program to beat dialler scams</td>\n",
       "      <td>bbc/tech/397.txt</td>\n",
       "      <td>tech</td>\n",
       "    </tr>\n",
       "  </tbody>\n",
       "</table>\n",
       "</div>"
      ],
      "text/plain": [
       "                                                 body  \\\n",
       "0   The global web blog community is being called ...   \n",
       "1   The \"digital divide\" between rich and poor nat...   \n",
       "2   The current slew of sports games offers unpara...   \n",
       "3   Writing a Microsoft Word document can be a dan...   \n",
       "4   Aid workers trying to house, feed and clothe m...   \n",
       "5   DVDs will be harder to copy thanks to new anti...   \n",
       "6   UK mobile owners continue to break records wit...   \n",
       "7   Internet TV has been talked about since the st...   \n",
       "8   Intel has unveiled research that could mean da...   \n",
       "9   BBC Sport unveils its new analysis tool Piero ...   \n",
       "10  Mobile phones are still enjoying a boom time i...   \n",
       "11  Nintendo's new handheld console, the DS, will ...   \n",
       "12  A contentious campaign to bump up the bandwidt...   \n",
       "13  By 2025, 40% of the UK's population will still...   \n",
       "14  If you have finished Doom 3, Half Life 2 and H...   \n",
       "15  One person in the UK is joining the internet's...   \n",
       "16  The last 12 months have seen a dramatic growth...   \n",
       "17  The Mac mini is the cheapest Apple computer ev...   \n",
       "18  An Austrian village is testing technology that...   \n",
       "19  BT is introducing two initiatives to help beat...   \n",
       "\n",
       "                                   title          filename category  \n",
       "0       Global blogger action day called  bbc/tech/016.txt     tech  \n",
       "1      Global digital divide 'narrowing'  bbc/tech/033.txt     tech  \n",
       "2       Sporting rivals go to extra time  bbc/tech/056.txt     tech  \n",
       "3        Warning over Windows Word files  bbc/tech/086.txt     tech  \n",
       "4   Satellite mapping aids Darfur relief  bbc/tech/223.txt     tech  \n",
       "5       DVD copy protection strengthened  bbc/tech/326.txt     tech  \n",
       "6      Text message record smashed again  bbc/tech/372.txt     tech  \n",
       "7        TV's future down the phone line  bbc/tech/394.txt     tech  \n",
       "8       Intel unveils laser breakthrough  bbc/tech/019.txt     tech  \n",
       "9          Piero gives rugby perspective  bbc/tech/028.txt     tech  \n",
       "10      Looks and music to drive mobiles  bbc/tech/064.txt     tech  \n",
       "11     Nintendo handheld given Euro date  bbc/tech/084.txt     tech  \n",
       "12        Anti-spam screensaver scrapped  bbc/tech/214.txt     tech  \n",
       "13       Millions to miss out on the net  bbc/tech/226.txt     tech  \n",
       "14              The gaming world in 2005  bbc/tech/244.txt     tech  \n",
       "15      Broadband in the UK gathers pace  bbc/tech/254.txt     tech  \n",
       "16             Cyber crime booms in 2004  bbc/tech/281.txt     tech  \n",
       "17           Rivals of the £400 Apple...  bbc/tech/301.txt     tech  \n",
       "18     Local net TV takes off in Austria  bbc/tech/365.txt     tech  \n",
       "19      BT program to beat dialler scams  bbc/tech/397.txt     tech  "
      ]
     },
     "execution_count": 14,
     "metadata": {},
     "output_type": "execute_result"
    }
   ],
   "source": [
    "# Put the table to a DataFrame and preview\n",
    "df = client.list_rows(table).to_dataframe()\n",
    "df.head(20)"
   ]
  },
  {
   "cell_type": "markdown",
   "metadata": {},
   "source": [
    "### EDA"
   ]
  },
  {
   "cell_type": "code",
   "execution_count": 15,
   "metadata": {},
   "outputs": [
    {
     "name": "stdout",
     "output_type": "stream",
     "text": [
      "<class 'pandas.core.frame.DataFrame'>\n",
      "RangeIndex: 2225 entries, 0 to 2224\n",
      "Data columns (total 4 columns):\n",
      " #   Column    Non-Null Count  Dtype \n",
      "---  ------    --------------  ----- \n",
      " 0   body      2225 non-null   object\n",
      " 1   title     2225 non-null   object\n",
      " 2   filename  2225 non-null   object\n",
      " 3   category  2225 non-null   object\n",
      "dtypes: object(4)\n",
      "memory usage: 69.7+ KB\n"
     ]
    }
   ],
   "source": [
    "df.info()"
   ]
  },
  {
   "cell_type": "code",
   "execution_count": 16,
   "metadata": {},
   "outputs": [
    {
     "data": {
      "text/plain": [
       "0       False\n",
       "1       False\n",
       "2       False\n",
       "3       False\n",
       "4       False\n",
       "        ...  \n",
       "2220    False\n",
       "2221    False\n",
       "2222    False\n",
       "2223    False\n",
       "2224    False\n",
       "Length: 2225, dtype: bool"
      ]
     },
     "execution_count": 16,
     "metadata": {},
     "output_type": "execute_result"
    }
   ],
   "source": [
    "# Check for duplicated articles\n",
    "df.duplicated(subset=None, keep='first')"
   ]
  },
  {
   "cell_type": "code",
   "execution_count": 17,
   "metadata": {},
   "outputs": [
    {
     "name": "stdout",
     "output_type": "stream",
     "text": [
      "Body: Ipod owners can now download the Band Aid single from iTunes after Apple reached agreement with the charity.\n",
      "\n",
      "Apple had been unwilling to raise the cost of the single in line with other download services, said Band Aid. But the single is now on sale for 79p - the usual cost of a song from iTunes - with Apple donating a further 70p to the charity for each song downloaded. A copy of the original 1984 song is also available for download at 79p - with all proceeds going to the charity.\n",
      "\n",
      "More than 72,000 copies of the new Band Aid single were sold on its first day of release on Monday, according to sales figures. The track has become the fastest-selling single of the year so far, shifting more copies than the rest of the top 30 combined, HMV claimed. Dido, Robbie Williams and Chris Martin are among those featured on the new version of Do They Know It's Christmas?, which is raising money to fight hunger in Africa. If the track sold 500,000 copies, more than £1m would be raised for charity. The CD is being sold for £3.99, with HMV, Virgin and Woolworths all donating their profits.\n",
      ":\n",
      "Title: iTunes now selling Band Aid song\n",
      "\n",
      "Category: entertainment\n",
      "Body: Citizenship ceremonies could be introduced for people celebrating their 18th birthday, Charles Clarke has said.\n",
      "\n",
      "The idea will be tried as part of an overhaul of the way government approaches \"inclusive citizenship\" particularly for ethnic minorities. A pilot scheme based on ceremonies in Australia will start in October. Mr Clarke said it would be a way of recognising young people reaching their voting age when they also gain greater independence from parents. Britain's young black and Asian people are to be encouraged to learn about the nation's heritage as part of the government's new race strategy which will also target specific issues within different ethnic minority groups. Officials say the home secretary wants young people to feel they belong and to understand their \"other cultural identities\" alongside being British. The launch follows a row about the role of faith schools in Britain. On Monday school inspection chief David Bell, accused some Islamic schools of failing to teach pupils about their obligations to British society.\n",
      "\n",
      "The Muslim Council of Britain said Ofsted boss Mr Bell's comments were \"highly irresponsible\". The Home Office started work on its Community Cohesion and Race Equality Strategy last year and the outcome, launched on Wednesday, is called 'Improving Opportunity, Strengthening Society'. It is aimed at tackling racism, exclusion, segregation and the rise in political and religious extremism. \"It represents a move away from the one-size-fits-all approach to focus on specifics within cultural groups,\" said a Home Office spokesman. \"It is not right to say that if you are from a black or ethnic minority group you must be disadvantaged.\" The spokesman highlighted specific issues that affect particular communities - for example people of south Asian origin tend to suffer from a high incidence of heart disease.\n",
      "\n",
      "\"It is about drilling down and focusing on these sorts of problems,\" the spokesman added. Launching the initiative Mr Clarke said enormous progress had been made on race issues in recent years. He added: \"But while many members of black and minority ethnic communities are thriving, some may still find it harder to succeed in employment or gain access to healthcare, education or housing. \"This strategy sets out the government's commitment to doing more to identify and respond to the specific needs of minorities in our society.\" Some 8% of the UK population described themselves as coming from a non-white ethnic minority in the 2001 Census.\n",
      "\n",
      "The Downing Street Strategy Unit in 2003 said people from Indian and Chinese backgrounds were doing well on average, often outperforming white people in education and earnings. But those of Pakistani, Bangladeshi and black Caribbean origin were significantly more likely to be unemployed and earn less than whites, it said. The Home Office wants more initiatives which try to promote a sense of belonging by encouraging young people to take part in voluntary work. The programmes are designed to support the citizenship lessons already taking place in schools.\n",
      ":\n",
      "Title: Citizenship event for 18s touted\n",
      "\n",
      "Category: politics\n",
      "Body: Sprinters Kostas Kenteris and Katerina Thanou have been cleared of doping offences by an independent tribunal.\n",
      "\n",
      "The duo had been provisionally suspended by the IAAF for allegedly missing three drugs tests, including one on the eve of the Athens Olympics. But the Greek Athletics Federation tribunal has overturned the bans - a decision which the IAAF can now contest at the Court of Arbitration for Sport. The pair's former coach, Christos Tzekos, has been banned for four years. Kenteris, 31, and Thanou, 30, had been charged with avoiding drug tests in Tel Aviv, Chicago and Athens and failing to notify anti-doping officials of their whereabouts before the Olympics. They withdrew from the Olympics after missing a drugs test at the Olympic Village on 12 August.\n",
      "\n",
      "The pair then spent four days in a hospital, claiming they had been injured in a motorcycle crash. It was the International Olympic Committee's demand that the IAAF investigate the affair that led to the hearing of the Greek tribunal. The head of that tribunal, Kostas Panagopoulos, said it had not been proven that the athletes refused to take the test in Athens. \"The charge cannot be substantiated,\" he said. \"In no way was he (Kenteris) informed to appear for a doping test. The same goes for Thanou.\" Kenteris's lawyer, Gregory Ioannidis, said: \"The decision means Mr Kenteris has been exonerated of highly damaging and unfounded charges which have been extremely harmful for his career.\n",
      "\n",
      "\"He has consistently maintained his innocence and this was substantiated by further evidence we were able to submit to the tribunal following its deliberations in January. \"This evidence shows Mr Kenteris was never asked to submit to a test by the International Olympic Committee so he could not possibly have been guilty of deliberately avoiding one. It shows he has no case to answer. \"Mr Kenteris should now be given the opportunity he deserves to rebuild his career in the full knowledge that there is no stain on his character. \"He has suffered greatly throughout this ordeal that has exposed both himself and his family to enormous pressures.\" But the IAAF said it was \"very surprised\" by the verdict. Spokesman Nick Davies said: \"We note the decision of the Greek authorities with interest. \"Our doping review board will now consider the English version of the decision.\"\n",
      ":\n",
      "Title: Greek duo cleared in doping case\n",
      "\n",
      "Category: sport\n"
     ]
    }
   ],
   "source": [
    "# Check one article\n",
    "for idx in df.sample(3).index:\n",
    "    text = df.iloc[idx]  \n",
    "    print(\"Body: {}:\".format(text.body))\n",
    "    print(\"Title: {}\\n\".format(text.title))\n",
    "    print(\"Category: {}\".format(text.category))"
   ]
  },
  {
   "cell_type": "code",
   "execution_count": 18,
   "metadata": {},
   "outputs": [
    {
     "data": {
      "text/plain": [
       "category\n",
       "sport            511\n",
       "business         510\n",
       "politics         417\n",
       "tech             401\n",
       "entertainment    386\n",
       "Name: count, dtype: int64"
      ]
     },
     "execution_count": 18,
     "metadata": {},
     "output_type": "execute_result"
    }
   ],
   "source": [
    "# Count unique categories\n",
    "df[\"category\"].value_counts()"
   ]
  },
  {
   "cell_type": "code",
   "execution_count": 19,
   "metadata": {},
   "outputs": [
    {
     "data": {
      "text/plain": [
       "<Axes: xlabel='category', ylabel='count'>"
      ]
     },
     "execution_count": 19,
     "metadata": {},
     "output_type": "execute_result"
    },
    {
     "data": {
      "image/png": "[encoded data removed]",
      "text/plain": [
       "<Figure size 640x480 with 1 Axes>"
      ]
     },
     "metadata": {},
     "output_type": "display_data"
    }
   ],
   "source": [
    "# Visualize categories for balance\n",
    "sns.countplot(x=\"category\",  hue='category', legend=False, data=df, palette='pastel')"
   ]
  },
  {
   "cell_type": "code",
   "execution_count": 20,
   "metadata": {},
   "outputs": [
    {
     "name": "stdout",
     "output_type": "stream",
     "text": [
      "The longest article by category (Word Count):\n",
      "Tech: 2964 words\n",
      "Sport: 1656 words\n",
      "Business: 885 words\n",
      "Politics: 4428 words\n",
      "Entertainment: 3477 words\n"
     ]
    }
   ],
   "source": [
    "# The count of words in the longest article across categories\n",
    "categories=['tech', 'sport', 'business', 'politics', 'entertainment']\n",
    "print(\"The longest article by category (Word Count):\")\n",
    "for category in categories:\n",
    "    max_words = df[df['category'] == category]['body'].apply(lambda x: len(x.split())).max()\n",
    "    print(f\"{category.capitalize()}: {max_words} words\")\n"
   ]
  },
  {
   "cell_type": "code",
   "execution_count": 21,
   "metadata": {},
   "outputs": [
    {
     "name": "stdout",
     "output_type": "stream",
     "text": [
      "The shortest article by category (Word Count):\n",
      "- Tech           : 157 words\n",
      "- Sport          : 108 words\n",
      "- Business       : 136 words\n",
      "- Politics       : 84 words\n",
      "- Entertainment  : 138 words\n"
     ]
    }
   ],
   "source": [
    "\n",
    "# The count of words in the shortest article across categories\n",
    "print(\"The shortest article by category (Word Count):\")\n",
    "for category in categories:\n",
    "    min_words = df[df['category'] == category]['body'].apply(lambda x: len(x.split())).min()\n",
    "    print(f\"- {category.capitalize():<15}: {min_words} words\")"
   ]
  },
  {
   "cell_type": "markdown",
   "metadata": {},
   "source": [
    "Note: the category of politics has the longest and the shortest articles"
   ]
  },
  {
   "cell_type": "code",
   "execution_count": 22,
   "metadata": {},
   "outputs": [
    {
     "data": {
      "image/png": "[encoded data removed]",
      "text/plain": [
       "<Figure size 1500x800 with 1 Axes>"
      ]
     },
     "metadata": {},
     "output_type": "display_data"
    }
   ],
   "source": [
    "# Visualize length of articles across the categories for balance\n",
    "fig, axs = plt.subplots(figsize=(15,8))\n",
    "fig.suptitle(\"The Length of the Articles across Categories\")\n",
    "axs=sns.violinplot( x=df['category'], y=df[\"body\"].apply(lambda x : len(x.split())), bw_adjust=.5, inner=\"stick\")\n",
    "\n",
    "plt.show()"
   ]
  },
  {
   "cell_type": "code",
   "execution_count": 23,
   "metadata": {},
   "outputs": [
    {
     "data": {
      "text/plain": [
       "<Axes: xlabel='category', ylabel='body'>"
      ]
     },
     "execution_count": 23,
     "metadata": {},
     "output_type": "execute_result"
    },
    {
     "data": {
      "image/png": "[encoded data removed]",
      "text/plain": [
       "<Figure size 640x480 with 1 Axes>"
      ]
     },
     "metadata": {},
     "output_type": "display_data"
    }
   ],
   "source": [
    "# Visualise article length for outliers\n",
    "sns.boxplot(data=df, x='category', hue='category', y=df[\"body\"].apply(lambda x : len(x.split())), palette='deep')"
   ]
  },
  {
   "cell_type": "markdown",
   "metadata": {},
   "source": [
    "Note: further topic modelling and sentiment analysis may be biased by skewed article length.\n",
    "\n",
    "LDA: Longer texts might dominate the topic distribution, while shorter texts may not provide enough data for clear topic identification.\n",
    "BERTopic: even though it is a more advanced technique, extremely long texts may dominate the embeddings and clustering process, influencing the learned topics. Shorter texts might have less impact on the topic distribution, which can bias the model.\n",
    "\n",
    "Possible solutions: \n",
    "normalization for LDA: stopword removal, stemming, lemmatization, truncation or better filtering short docs (max_words=500 or min_words=20)\n",
    "normalization for BERTopic: chunking long texts and treating them as separate docs, embed the chunks, filtering very short texts.\n"
   ]
  }
 ],
 "metadata": {
  "kernelspec": {
   "display_name": ".venv",
   "language": "python",
   "name": "python3"
  },
  "language_info": {
   "codemirror_mode": {
    "name": "ipython",
    "version": 3
   },
   "file_extension": ".py",
   "mimetype": "text/x-python",
   "name": "python",
   "nbconvert_exporter": "python",
   "pygments_lexer": "ipython3",
   "version": "3.12.6"
  }
 },
 "nbformat": 4,
 "nbformat_minor": 2
}
