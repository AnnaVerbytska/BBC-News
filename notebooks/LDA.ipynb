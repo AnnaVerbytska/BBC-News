{
 "cells": [
  {
   "cell_type": "code",
   "execution_count": 2,
   "metadata": {},
   "outputs": [],
   "source": [
    "# Import libraries\n",
    "import numpy as np\n",
    "import pandas as pd\n",
    "from google.cloud import bigquery #pip install google-cloud-bigquery for SQL\n",
    "# Import libraries for TM\n",
    "import pyLDAvis\n",
    "import pyLDAvis.gensim_models\n",
    "pyLDAvis.enable_notebook()\n",
    "#pyLDAvis documentation: 1) https://pyldavis.readthedocs.io/en/latest/readme.html; 2) https://nlp.stanford.edu/events/illvi2014/papers/sievert-illvi2014.pdf\n",
    "from wordcloud import WordCloud\n",
    "import matplotlib.pyplot as plt\n",
    "\n",
    "# Import libraries for Topic Modelling\n",
    "import warnings\n",
    "warnings.filterwarnings(\"ignore\")\n",
    "\n",
    "from nltk.tokenize import word_tokenize\n",
    "from gensim.models.coherencemodel import CoherenceModel\n",
    "import en_core_web_md # download python -m spacy download en_core_web_md\n",
    "from gensim.models.ldamulticore import LdaMulticore\n",
    "from gensim.corpora.dictionary import Dictionary\n",
    "from gensim.models import LdaMulticore\n",
    "from gensim.models import CoherenceModel"
   ]
  },
  {
   "cell_type": "code",
   "execution_count": 3,
   "metadata": {},
   "outputs": [],
   "source": [
    "project='' #Put your project id"
   ]
  },
  {
   "cell_type": "code",
   "execution_count": 4,
   "metadata": {},
   "outputs": [],
   "source": [
    "# Initialize a BigQuery Client\n",
    "client=bigquery.Client(project)"
   ]
  },
  {
   "cell_type": "code",
   "execution_count": 5,
   "metadata": {},
   "outputs": [],
   "source": [
    "# Construct a reference to a dataset \n",
    "dataset_ref=client.dataset('bbc_news', project='bigquery-public-data')"
   ]
  },
  {
   "cell_type": "code",
   "execution_count": 6,
   "metadata": {},
   "outputs": [],
   "source": [
    "# Fetch the dataset\n",
    "dataset=client.get_dataset(dataset_ref)"
   ]
  },
  {
   "cell_type": "code",
   "execution_count": 7,
   "metadata": {},
   "outputs": [],
   "source": [
    "# Construct a reference to a table\n",
    "table_ref=dataset_ref.table('fulltext')\n",
    "table=client.get_table(table_ref)"
   ]
  },
  {
   "cell_type": "code",
   "execution_count": 12,
   "metadata": {},
   "outputs": [
    {
     "data": {
      "text/html": [
       "<div>\n",
       "<style scoped>\n",
       "    .dataframe tbody tr th:only-of-type {\n",
       "        vertical-align: middle;\n",
       "    }\n",
       "\n",
       "    .dataframe tbody tr th {\n",
       "        vertical-align: top;\n",
       "    }\n",
       "\n",
       "    .dataframe thead th {\n",
       "        text-align: right;\n",
       "    }\n",
       "</style>\n",
       "<table border=\"1\" class=\"dataframe\">\n",
       "  <thead>\n",
       "    <tr style=\"text-align: right;\">\n",
       "      <th></th>\n",
       "      <th>body</th>\n",
       "      <th>title</th>\n",
       "      <th>filename</th>\n",
       "      <th>category</th>\n",
       "    </tr>\n",
       "  </thead>\n",
       "  <tbody>\n",
       "    <tr>\n",
       "      <th>0</th>\n",
       "      <td>The global web blog community is being called ...</td>\n",
       "      <td>Global blogger action day called</td>\n",
       "      <td>bbc/tech/016.txt</td>\n",
       "      <td>tech</td>\n",
       "    </tr>\n",
       "    <tr>\n",
       "      <th>1</th>\n",
       "      <td>The \"digital divide\" between rich and poor nat...</td>\n",
       "      <td>Global digital divide 'narrowing'</td>\n",
       "      <td>bbc/tech/033.txt</td>\n",
       "      <td>tech</td>\n",
       "    </tr>\n",
       "    <tr>\n",
       "      <th>2</th>\n",
       "      <td>The current slew of sports games offers unpara...</td>\n",
       "      <td>Sporting rivals go to extra time</td>\n",
       "      <td>bbc/tech/056.txt</td>\n",
       "      <td>tech</td>\n",
       "    </tr>\n",
       "    <tr>\n",
       "      <th>3</th>\n",
       "      <td>Writing a Microsoft Word document can be a dan...</td>\n",
       "      <td>Warning over Windows Word files</td>\n",
       "      <td>bbc/tech/086.txt</td>\n",
       "      <td>tech</td>\n",
       "    </tr>\n",
       "    <tr>\n",
       "      <th>4</th>\n",
       "      <td>Aid workers trying to house, feed and clothe m...</td>\n",
       "      <td>Satellite mapping aids Darfur relief</td>\n",
       "      <td>bbc/tech/223.txt</td>\n",
       "      <td>tech</td>\n",
       "    </tr>\n",
       "    <tr>\n",
       "      <th>5</th>\n",
       "      <td>DVDs will be harder to copy thanks to new anti...</td>\n",
       "      <td>DVD copy protection strengthened</td>\n",
       "      <td>bbc/tech/326.txt</td>\n",
       "      <td>tech</td>\n",
       "    </tr>\n",
       "    <tr>\n",
       "      <th>6</th>\n",
       "      <td>UK mobile owners continue to break records wit...</td>\n",
       "      <td>Text message record smashed again</td>\n",
       "      <td>bbc/tech/372.txt</td>\n",
       "      <td>tech</td>\n",
       "    </tr>\n",
       "    <tr>\n",
       "      <th>7</th>\n",
       "      <td>Internet TV has been talked about since the st...</td>\n",
       "      <td>TV's future down the phone line</td>\n",
       "      <td>bbc/tech/394.txt</td>\n",
       "      <td>tech</td>\n",
       "    </tr>\n",
       "    <tr>\n",
       "      <th>8</th>\n",
       "      <td>Intel has unveiled research that could mean da...</td>\n",
       "      <td>Intel unveils laser breakthrough</td>\n",
       "      <td>bbc/tech/019.txt</td>\n",
       "      <td>tech</td>\n",
       "    </tr>\n",
       "    <tr>\n",
       "      <th>9</th>\n",
       "      <td>BBC Sport unveils its new analysis tool Piero ...</td>\n",
       "      <td>Piero gives rugby perspective</td>\n",
       "      <td>bbc/tech/028.txt</td>\n",
       "      <td>tech</td>\n",
       "    </tr>\n",
       "  </tbody>\n",
       "</table>\n",
       "</div>"
      ],
      "text/plain": [
       "                                                body  \\\n",
       "0  The global web blog community is being called ...   \n",
       "1  The \"digital divide\" between rich and poor nat...   \n",
       "2  The current slew of sports games offers unpara...   \n",
       "3  Writing a Microsoft Word document can be a dan...   \n",
       "4  Aid workers trying to house, feed and clothe m...   \n",
       "5  DVDs will be harder to copy thanks to new anti...   \n",
       "6  UK mobile owners continue to break records wit...   \n",
       "7  Internet TV has been talked about since the st...   \n",
       "8  Intel has unveiled research that could mean da...   \n",
       "9  BBC Sport unveils its new analysis tool Piero ...   \n",
       "\n",
       "                                  title          filename category  \n",
       "0      Global blogger action day called  bbc/tech/016.txt     tech  \n",
       "1     Global digital divide 'narrowing'  bbc/tech/033.txt     tech  \n",
       "2      Sporting rivals go to extra time  bbc/tech/056.txt     tech  \n",
       "3       Warning over Windows Word files  bbc/tech/086.txt     tech  \n",
       "4  Satellite mapping aids Darfur relief  bbc/tech/223.txt     tech  \n",
       "5      DVD copy protection strengthened  bbc/tech/326.txt     tech  \n",
       "6     Text message record smashed again  bbc/tech/372.txt     tech  \n",
       "7       TV's future down the phone line  bbc/tech/394.txt     tech  \n",
       "8      Intel unveils laser breakthrough  bbc/tech/019.txt     tech  \n",
       "9         Piero gives rugby perspective  bbc/tech/028.txt     tech  "
      ]
     },
     "execution_count": 12,
     "metadata": {},
     "output_type": "execute_result"
    }
   ],
   "source": [
    "# Put the table to a DataFrame and preview\n",
    "df = client.list_rows(table).to_dataframe()\n",
    "df.head(10)"
   ]
  },
  {
   "cell_type": "markdown",
   "metadata": {},
   "source": [
    "### LDA"
   ]
  },
  {
   "cell_type": "markdown",
   "metadata": {},
   "source": [
    "Note: \n",
    "- What are the major topics for 2024 across categories?"
   ]
  },
  {
   "cell_type": "code",
   "execution_count": 33,
   "metadata": {},
   "outputs": [
    {
     "name": "stdout",
     "output_type": "stream",
     "text": [
      "Number of articles after filtering: 1432\n"
     ]
    }
   ],
   "source": [
    "# Handle outliers - too long and too short articles\n",
    "df['word_count'] = df['body'].apply(lambda x: len(str(x).split())) # Add a new column with word counts\n",
    "df_filtered = df[(df['word_count'] >= 100) & (df['word_count'] <= 400)] # Filter articles\n",
    "print(f\"Number of articles after filtering: {df_filtered.shape[0]}\") # Check how many articles remain after filtering"
   ]
  },
  {
   "cell_type": "code",
   "execution_count": 35,
   "metadata": {},
   "outputs": [
    {
     "data": {
      "text/plain": [
       "<Axes: xlabel='category', ylabel='body'>"
      ]
     },
     "execution_count": 35,
     "metadata": {},
     "output_type": "execute_result"
    },
    {
     "data": {
      "image/png": "[encoded data removed]",
      "text/plain": [
       "<Figure size 640x480 with 1 Axes>"
      ]
     },
     "metadata": {},
     "output_type": "display_data"
    }
   ],
   "source": [
    "# Check for balance after filtering\n",
    "import seaborn as sns\n",
    "sns.boxplot(data=df_filtered, x='category', hue='category', y=df_filtered[\"body\"].apply(lambda x : len(x.split())), palette='deep')"
   ]
  },
  {
   "cell_type": "code",
   "execution_count": null,
   "metadata": {},
   "outputs": [],
   "source": []
  }
 ],
 "metadata": {
  "kernelspec": {
   "display_name": ".venv",
   "language": "python",
   "name": "python3"
  },
  "language_info": {
   "codemirror_mode": {
    "name": "ipython",
    "version": 3
   },
   "file_extension": ".py",
   "mimetype": "text/x-python",
   "name": "python",
   "nbconvert_exporter": "python",
   "pygments_lexer": "ipython3",
   "version": "3.12.7"
  }
 },
 "nbformat": 4,
 "nbformat_minor": 2
}
