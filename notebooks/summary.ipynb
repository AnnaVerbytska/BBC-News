{
 "cells": [
  {
   "cell_type": "markdown",
   "metadata": {},
   "source": [
    "Article-Level Text Summarization with TinyLlama"
   ]
  },
  {
   "cell_type": "code",
   "execution_count": null,
   "metadata": {},
   "outputs": [
    {
     "name": "stderr",
     "output_type": "stream",
     "text": [
      "/Users/anna_verbytska/Documents/BBC-News/.venv/lib/python3.12/site-packages/tqdm/auto.py:21: TqdmWarning: IProgress not found. Please update jupyter and ipywidgets. See https://ipywidgets.readthedocs.io/en/stable/user_install.html\n",
      "  from .autonotebook import tqdm as notebook_tqdm\n",
      "[nltk_data] Downloading package punkt to\n",
      "[nltk_data]     /Users/anna_verbytska/nltk_data...\n",
      "[nltk_data]   Package punkt is already up-to-date!\n",
      "Device set to use mps:0\n"
     ]
    }
   ],
   "source": [
    "import pandas as pd\n",
    "import os\n",
    "\n",
    "# local imports\n",
    "import sys\n",
    "import os\n",
    "sys.path.append(os.path.abspath(os.path.join(os.getcwd(), '..')))\n",
    "# Setting secret credentials\n",
    "from dotenv import load_dotenv #pip install python-dotenv\n",
    "load_dotenv()\n",
    "\n",
    "# os.environ[\"TOKENIZERS_PARALLELISM\"] = \"false\" # Fix for Hugging Face Tokenizers issue\n"
   ]
  },
  {
   "cell_type": "code",
   "execution_count": 2,
   "metadata": {},
   "outputs": [
    {
     "data": {
      "text/html": [
       "<div>\n",
       "<style scoped>\n",
       "    .dataframe tbody tr th:only-of-type {\n",
       "        vertical-align: middle;\n",
       "    }\n",
       "\n",
       "    .dataframe tbody tr th {\n",
       "        vertical-align: top;\n",
       "    }\n",
       "\n",
       "    .dataframe thead th {\n",
       "        text-align: right;\n",
       "    }\n",
       "</style>\n",
       "<table border=\"1\" class=\"dataframe\">\n",
       "  <thead>\n",
       "    <tr style=\"text-align: right;\">\n",
       "      <th></th>\n",
       "      <th>body</th>\n",
       "      <th>title</th>\n",
       "      <th>category</th>\n",
       "      <th>word_count</th>\n",
       "      <th>topic</th>\n",
       "      <th>article_summary</th>\n",
       "    </tr>\n",
       "  </thead>\n",
       "  <tbody>\n",
       "    <tr>\n",
       "      <th>0</th>\n",
       "      <td>The \"best person for the job\" should be appoin...</td>\n",
       "      <td>'Best person' for top legal job</td>\n",
       "      <td>politics</td>\n",
       "      <td>465</td>\n",
       "      <td>7</td>\n",
       "      <td>Christopher Leslie tells MPs the \"best person ...</td>\n",
       "    </tr>\n",
       "    <tr>\n",
       "      <th>1</th>\n",
       "      <td>A cap on donations to political parties should...</td>\n",
       "      <td>'Debate needed' on donations cap</td>\n",
       "      <td>politics</td>\n",
       "      <td>549</td>\n",
       "      <td>4</td>\n",
       "      <td>The Electoral Commission says it is worth deba...</td>\n",
       "    </tr>\n",
       "    <tr>\n",
       "      <th>2</th>\n",
       "      <td>It could cost £80m to run a UK referendum on t...</td>\n",
       "      <td>'EU referendum could cost £80m'</td>\n",
       "      <td>politics</td>\n",
       "      <td>194</td>\n",
       "      <td>6</td>\n",
       "      <td>Constitution would make the European Union wor...</td>\n",
       "    </tr>\n",
       "    <tr>\n",
       "      <th>3</th>\n",
       "      <td>The risk of pets and children being given vote...</td>\n",
       "      <td>'Fido' to be taken off vote lists</td>\n",
       "      <td>politics</td>\n",
       "      <td>510</td>\n",
       "      <td>0</td>\n",
       "      <td>Electoral Commission says having voters regist...</td>\n",
       "    </tr>\n",
       "    <tr>\n",
       "      <th>4</th>\n",
       "      <td>People in England, Scotland and Wales must hav...</td>\n",
       "      <td>'Last chance' warning for voters</td>\n",
       "      <td>politics</td>\n",
       "      <td>270</td>\n",
       "      <td>0</td>\n",
       "      <td>Those who filled in forms last autumn should a...</td>\n",
       "    </tr>\n",
       "  </tbody>\n",
       "</table>\n",
       "</div>"
      ],
      "text/plain": [
       "                                                body  \\\n",
       "0  The \"best person for the job\" should be appoin...   \n",
       "1  A cap on donations to political parties should...   \n",
       "2  It could cost £80m to run a UK referendum on t...   \n",
       "3  The risk of pets and children being given vote...   \n",
       "4  People in England, Scotland and Wales must hav...   \n",
       "\n",
       "                               title  category  word_count  topic  \\\n",
       "0    'Best person' for top legal job  politics         465      7   \n",
       "1   'Debate needed' on donations cap  politics         549      4   \n",
       "2    'EU referendum could cost £80m'  politics         194      6   \n",
       "3  'Fido' to be taken off vote lists  politics         510      0   \n",
       "4   'Last chance' warning for voters  politics         270      0   \n",
       "\n",
       "                                     article_summary  \n",
       "0  Christopher Leslie tells MPs the \"best person ...  \n",
       "1  The Electoral Commission says it is worth deba...  \n",
       "2  Constitution would make the European Union wor...  \n",
       "3  Electoral Commission says having voters regist...  \n",
       "4  Those who filled in forms last autumn should a...  "
      ]
     },
     "execution_count": 2,
     "metadata": {},
     "output_type": "execute_result"
    }
   ],
   "source": [
    "# Fetch the data\n",
    "df = pd.read_csv(\"../data/topics_summaries.csv\")\n",
    "df.head()"
   ]
  },
  {
   "cell_type": "code",
   "execution_count": 3,
   "metadata": {},
   "outputs": [
    {
     "data": {
      "text/html": [
       "<div>\n",
       "<style scoped>\n",
       "    .dataframe tbody tr th:only-of-type {\n",
       "        vertical-align: middle;\n",
       "    }\n",
       "\n",
       "    .dataframe tbody tr th {\n",
       "        vertical-align: top;\n",
       "    }\n",
       "\n",
       "    .dataframe thead th {\n",
       "        text-align: right;\n",
       "    }\n",
       "</style>\n",
       "<table border=\"1\" class=\"dataframe\">\n",
       "  <thead>\n",
       "    <tr style=\"text-align: right;\">\n",
       "      <th></th>\n",
       "      <th>word_count</th>\n",
       "      <th>topic</th>\n",
       "    </tr>\n",
       "  </thead>\n",
       "  <tbody>\n",
       "    <tr>\n",
       "      <th>count</th>\n",
       "      <td>284.000000</td>\n",
       "      <td>284.000000</td>\n",
       "    </tr>\n",
       "    <tr>\n",
       "      <th>mean</th>\n",
       "      <td>479.845070</td>\n",
       "      <td>3.721831</td>\n",
       "    </tr>\n",
       "    <tr>\n",
       "      <th>std</th>\n",
       "      <td>164.824837</td>\n",
       "      <td>3.150537</td>\n",
       "    </tr>\n",
       "    <tr>\n",
       "      <th>min</th>\n",
       "      <td>168.000000</td>\n",
       "      <td>0.000000</td>\n",
       "    </tr>\n",
       "    <tr>\n",
       "      <th>25%</th>\n",
       "      <td>351.500000</td>\n",
       "      <td>1.000000</td>\n",
       "    </tr>\n",
       "    <tr>\n",
       "      <th>50%</th>\n",
       "      <td>498.000000</td>\n",
       "      <td>3.000000</td>\n",
       "    </tr>\n",
       "    <tr>\n",
       "      <th>75%</th>\n",
       "      <td>589.500000</td>\n",
       "      <td>6.000000</td>\n",
       "    </tr>\n",
       "    <tr>\n",
       "      <th>max</th>\n",
       "      <td>988.000000</td>\n",
       "      <td>10.000000</td>\n",
       "    </tr>\n",
       "  </tbody>\n",
       "</table>\n",
       "</div>"
      ],
      "text/plain": [
       "       word_count       topic\n",
       "count  284.000000  284.000000\n",
       "mean   479.845070    3.721831\n",
       "std    164.824837    3.150537\n",
       "min    168.000000    0.000000\n",
       "25%    351.500000    1.000000\n",
       "50%    498.000000    3.000000\n",
       "75%    589.500000    6.000000\n",
       "max    988.000000   10.000000"
      ]
     },
     "execution_count": 3,
     "metadata": {},
     "output_type": "execute_result"
    }
   ],
   "source": [
    "df.describe()"
   ]
  },
  {
   "cell_type": "code",
   "execution_count": 4,
   "metadata": {},
   "outputs": [
    {
     "name": "stdout",
     "output_type": "stream",
     "text": [
      "                                     article_summary  token_count\n",
      "0  Christopher Leslie tells MPs the \"best person ...          108\n",
      "1  The Electoral Commission says it is worth deba...          119\n",
      "2  Constitution would make the European Union wor...          106\n",
      "3  Electoral Commission says having voters regist...          109\n",
      "4  Those who filled in forms last autumn should a...          106\n",
      "Total tokens in the entire dataset: 31114\n"
     ]
    }
   ],
   "source": [
    "import tiktoken\n",
    "\n",
    "# Initialize the token encoder (using the encoding that the model uses)\n",
    "enc = tiktoken.get_encoding(\"cl100k_base\")  # This is the encoding used by OpenAI's GPT models and others\n",
    "\n",
    "# Function to count tokens in a text\n",
    "def count_tokens(text):\n",
    "    return len(enc.encode(text))\n",
    "\n",
    "# Function to get token counts for the entire DataFrame (e.g., the 'body' column)\n",
    "def get_token_counts(df, column='article_summary'):\n",
    "    df['token_count'] = df[column].apply(count_tokens)\n",
    "    return df\n",
    "\n",
    "# Get token counts for the 'body' column (or any other text column)\n",
    "df_with_token_counts = get_token_counts(df)\n",
    "\n",
    "# Print the DataFrame with token counts\n",
    "print(df_with_token_counts[['article_summary', 'token_count']].head())  # Show the first few rows with token counts\n",
    "\n",
    "# Optionally, you can calculate the total token count across all rows\n",
    "total_token_count = df_with_token_counts['token_count'].sum()\n",
    "print(f\"Total tokens in the entire dataset: {total_token_count}\")"
   ]
  },
  {
   "cell_type": "code",
   "execution_count": 5,
   "metadata": {},
   "outputs": [],
   "source": [
    "from google import genai\n",
    "from google.genai import types\n",
    "\n",
    "from IPython.display import HTML, Markdown, display"
   ]
  },
  {
   "cell_type": "code",
   "execution_count": 6,
   "metadata": {},
   "outputs": [],
   "source": [
    "from google.api_core import retry\n",
    "is_retriable = lambda e: (isinstance(e, genai.errors.APIError) and e.code in {429, 503})\n",
    "genai.models.Models.generate_content = retry.Retry(\n",
    "    predicate=is_retriable)(genai.models.Models.generate_content)"
   ]
  },
  {
   "cell_type": "code",
   "execution_count": 7,
   "metadata": {},
   "outputs": [],
   "source": [
    "# Set up your API key\n",
    "\n",
    "import os\n",
    "from dotenv import load_dotenv\n",
    "import nltk\n",
    "from nltk.tokenize import sent_tokenize\n",
    "from dotenv import load_dotenv\n",
    "import os\n",
    "import time\n",
    "\n",
    "load_dotenv()  # Loads variables from .env\n",
    "\n",
    "GOOGLE_API_KEY = os.getenv(\"GOOGLE_API_KEY\")"
   ]
  },
  {
   "cell_type": "code",
   "execution_count": null,
   "metadata": {},
   "outputs": [],
   "source": [
    "# Initialize Gemini client\n",
    "client = genai.Client(api_key=GOOGLE_API_KEY)\n",
    "# Summarize an article using Gemini 2.0 Flash\n",
    "def summarize_article(text, max_output_tokens=200):\n",
    "    \"\"\"\n",
    "    Summarizes the article text using Gemini 2.0 Flash.\n",
    "    \n",
    "    Args:\n",
    "        text (str): The article text to be summarized.\n",
    "        max_output_tokens (int): The maximum number of tokens for the summary.\n",
    "    \n",
    "    Returns:\n",
    "        str: The summarized text.\n",
    "    \"\"\"\n",
    "    try:\n",
    "        # Prepare the prompt for summarization\n",
    "        prompt = f\"Summarize the following article into a concise summary:\\n\\n{text}\"\n",
    "\n",
    "        config = types.GenerateContentConfig(temperature=0.2, max_output_tokens=max_output_tokens)\n",
    "\n",
    "        # Call the Gemini API to generate the summary\n",
    "        response = client.models.generate_content(\n",
    "            model=\"gemini-2.0-flash\",\n",
    "            contents=prompt,\n",
    "            config=config        \n",
    "            )\n",
    "\n",
    "        # Return the summary\n",
    "        return response.text.strip()\n",
    "\n",
    "    except Exception as e:\n",
    "        print(f\"Error during summarization: {e}\")\n",
    "        return \"\"\n",
    "\n",
    "# Main function to apply summarization to all articles in a DataFrame\n",
    "def summarize_articles_in_df(df, body_col='body'):\n",
    "    \"\"\"\n",
    "    Summarizes the articles in the specified DataFrame column and adds the summaries to a new column.\n",
    "\n",
    "    Args:\n",
    "        df (pd.DataFrame): DataFrame with the articles.\n",
    "        body_col (str): The name of the column containing article text to summarize.\n",
    "    \n",
    "    Returns:\n",
    "        pd.DataFrame: DataFrame with a new 'article_summary' column containing the summaries.\n",
    "    \"\"\"\n",
    "    # Apply the summarization function to each article in the 'body' column\n",
    "    df['gemini_summary'] = df[body_col].apply(lambda text: summarize_article(text))\n",
    "\n",
    "    return df"
   ]
  },
  {
   "cell_type": "code",
   "execution_count": null,
   "metadata": {},
   "outputs": [
    {
     "name": "stdout",
     "output_type": "stream",
     "text": [
      "0    The UK government is pushing for reforms to th...\n",
      "Name: gemini_summary, dtype: object\n"
     ]
    }
   ],
   "source": [
    "# Summarize the article in the 'body' column\n",
    "df_single = df[['body']].iloc[0:1]\n",
    "df_single = summarize_articles_in_df(df_single)\n",
    "\n",
    "# Display the DataFrame to check the results\n",
    "df_single[['body', 'gemini_summary']].head()"
   ]
  }
 ],
 "metadata": {
  "kernelspec": {
   "display_name": ".venv",
   "language": "python",
   "name": "python3"
  },
  "language_info": {
   "codemirror_mode": {
    "name": "ipython",
    "version": 3
   },
   "file_extension": ".py",
   "mimetype": "text/x-python",
   "name": "python",
   "nbconvert_exporter": "python",
   "pygments_lexer": "ipython3",
   "version": "3.12.9"
  }
 },
 "nbformat": 4,
 "nbformat_minor": 2
}
