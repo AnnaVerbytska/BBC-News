{
 "cells": [
  {
   "cell_type": "markdown",
   "metadata": {},
   "source": [
    "Named Entity Recognition with spaCy & roBERTa\n",
    "\n",
    "Documentation: https://spacy.io/models/en#en_core_web_trf"
   ]
  },
  {
   "cell_type": "markdown",
   "metadata": {},
   "source": [
    "<div style=\"color:white\">\n",
    "\n",
    "- **Description**: This technique will give insights into the frequency of named entities in the articles that fall into a specific topic.\n",
    "- **Purpose**: it gives the understanding that entity-based approach to sentiment analysis will be the most beneficial for the project\n",
    "- **Deployment**: The Sentiment Analysis will be performed on sentences containing both direct and indirect references to pre-selected entities. These sentences will be extracted and separated from the rest of the article body for focused analysis. The analysis will differentiate between explicit and implicit mentions of the entities, ensuring that indirect references (e.g., pronouns or related phrases) are also considered. After analyzing the sentiment of these sentences, the tone of the entire article will be adjusted accordingly. Specifically, sentences with mentions of these entities will be categorized and toned based on their sentiment—positive, negative, or neutral. This refined approach ensures that the overall sentiment of the article reflects the impact of these key entities while maintaining contextual integrity.\n",
    "\n",
    "<div>"
   ]
  },
  {
   "cell_type": "markdown",
   "metadata": {},
   "source": [
    "Named Entity Types in en_core_web_trf\n",
    "\n",
    "<span style=\"font-size: 8px;\">\n",
    "\n",
    "    PERSON ('PERSON'): People, including fictional characters, and sometimes groups of people.\n",
    "    NORP ('NORP'): Nationalities or religious/political groups.\n",
    "    FAC ('FAC'): Buildings, airports, highways, bridges, etc.\n",
    "    ORG ('ORG'): Organizations, including companies, institutions, and governmental bodies.\n",
    "    GPE ('GPE'): Geopolitical entities (countries, cities, states).\n",
    "    LOC ('LOC'): Non-GPE locations, mountain ranges, bodies of water, etc.\n",
    "    PRODUCT ('PRODUCT'): Products, including software, vehicles, gadgets, etc.\n",
    "    EVENT ('EVENT'): Named events, including sports events, festivals, wars, and other events.\n",
    "    WORK_OF_ART ('WORK_OF_ART'): Titles of books, movies, paintings, etc.\n",
    "    LAW ('LAW'): Laws, regulations, rules, and legal documents.\n",
    "    LANGUAGE ('LANGUAGE'): Languages.\n",
    "    DATE ('DATE'): Absolute or relative dates or periods.\n",
    "    TIME ('TIME'): Times within a day.\n",
    "    PERCENT ('PERCENT'): Percentage values.\n",
    "    MONEY ('MONEY'): Monetary values, including unit currencies.\n",
    "    QUANTITY ('QUANTITY'): Measurements of physical quantities.\n",
    "    ORDINAL ('ORDINAL'): Ordinal numbers.\n",
    "    CARDINAL ('CARDINAL'): Non-ordinal numbers.\n",
    "</span>"
   ]
  },
  {
   "cell_type": "code",
   "execution_count": null,
   "metadata": {},
   "outputs": [],
   "source": [
    "# Import libraries\n",
    "import spacy\n",
    "from spacy import displacy\n",
    "import pandas as pd\n",
    "from collections import Counter \n",
    "import matplotlib.pyplot as plt\n",
    "\n",
    "# local imports\n",
    "\n",
    "# Settings\n",
    "%matplotlib inline\n",
    "import warnings\n",
    "warnings.filterwarnings(\"ignore\")\n",
    "%load_ext autoreload\n",
    "%autoreload 2"
   ]
  },
  {
   "cell_type": "code",
   "execution_count": null,
   "metadata": {},
   "outputs": [],
   "source": [
    "# Download the model\n",
    "trf = spacy.load('en_core_web_trf') # python -m spacy download en_core_web_trf"
   ]
  },
  {
   "cell_type": "code",
   "execution_count": null,
   "metadata": {},
   "outputs": [],
   "source": [
    "# Load the data\n",
    "df = pd.read_csv('../data/topics.csv')"
   ]
  },
  {
   "cell_type": "code",
   "execution_count": null,
   "metadata": {},
   "outputs": [],
   "source": [
    "data_filtered=df[(df['topic']==0)].reset_index()\n",
    "data_filtered.info()"
   ]
  },
  {
   "cell_type": "code",
   "execution_count": null,
   "metadata": {},
   "outputs": [],
   "source": [
    "data_filtered.head()"
   ]
  },
  {
   "cell_type": "code",
   "execution_count": null,
   "metadata": {},
   "outputs": [],
   "source": [
    "data_filtered['text'][1]"
   ]
  },
  {
   "cell_type": "code",
   "execution_count": null,
   "metadata": {},
   "outputs": [],
   "source": [
    "# Visualize the entity recognizer for one article\n",
    "one_text = data_filtered['text'].iloc[80]\n",
    "doc = trf(one_text)\n",
    "displacy.render(doc, style='ent')"
   ]
  },
  {
   "cell_type": "code",
   "execution_count": null,
   "metadata": {},
   "outputs": [],
   "source": [
    "# Create the function to return a list of entities\n",
    "def get_entities(text):\n",
    "    # process the text with a SpaCy model to get named entities\n",
    "    doc = trf(text)\n",
    "    # initialize list to store identified organizations\n",
    "    org_list = []\n",
    "    people_list = []\n",
    "    norp_list = []\n",
    "    # loop through the identified entities and append entities to lists\n",
    "    for entity in doc.ents:\n",
    "        if entity.label_ == 'ORG':\n",
    "            org_list.append(entity.text)\n",
    "        elif entity.label_ == 'PERSON':\n",
    "            people_list.append(entity.text)\n",
    "    \n",
    "    return org_list, people_list"
   ]
  },
  {
   "cell_type": "code",
   "execution_count": null,
   "metadata": {},
   "outputs": [],
   "source": [
    "# Fetching entities (run time - about 3 mins)\n",
    "data_filtered[['ORG', 'people']] = data_filtered['body'].apply(lambda x: pd.Series(get_entities(x)))"
   ]
  },
  {
   "cell_type": "code",
   "execution_count": null,
   "metadata": {},
   "outputs": [],
   "source": [
    "# Check the DataFrame\n",
    "data_filtered.head(10)"
   ]
  },
  {
   "cell_type": "code",
   "execution_count": null,
   "metadata": {},
   "outputs": [],
   "source": [
    "# Check a single document for an entity\n",
    "print(data_filtered['people'].iloc[10])"
   ]
  },
  {
   "cell_type": "code",
   "execution_count": null,
   "metadata": {},
   "outputs": [],
   "source": [
    "# Convert each entity column into lists / merge organizations column into one big list\n",
    "org_list = data_filtered['ORG'].to_list()\n",
    "people_list = data_filtered['people'].to_list()\n",
    "\n",
    "# Flatten the lists (combine all rows into one list per entity type)\n",
    "org_list = [org for sublist in org_list for org in sublist]\n",
    "people_list = [person for sublist in people_list for person in sublist]"
   ]
  },
  {
   "cell_type": "code",
   "execution_count": null,
   "metadata": {},
   "outputs": [],
   "source": [
    "# Create dictionary of entity mention frequency and calculate frequencies of selected entities\n",
    "org_freq = Counter(org_list)\n",
    "org_freq.most_common(30)"
   ]
  },
  {
   "cell_type": "code",
   "execution_count": null,
   "metadata": {},
   "outputs": [],
   "source": [
    "# Visualize entity frequencies\n",
    "common_orgs = org_freq.most_common(20)\n",
    "org_names, org_counts = zip(*common_orgs)\n",
    "plt.figure(figsize=(8, 4))\n",
    "plt.barh(org_names, org_counts, color='green', label='Overall')\n",
    "plt.xlabel('Frequency')\n",
    "plt.ylabel('Entities')\n",
    "plt.title('Top 20 Most Common Organisations')\n",
    "plt.gca().invert_yaxis()\n",
    "plt.legend()\n",
    "plt.tight_layout()\n",
    "plt.show()"
   ]
  },
  {
   "cell_type": "code",
   "execution_count": null,
   "metadata": {},
   "outputs": [],
   "source": [
    "# Create dictionary of entity mention frequency and calculate frequencies of selected entities\n",
    "people_freq = Counter(people_list)\n",
    "people_freq.most_common(30)"
   ]
  },
  {
   "cell_type": "code",
   "execution_count": null,
   "metadata": {},
   "outputs": [],
   "source": [
    "# Combine frequencies into a DataFrame\n",
    "entity_freq_df = pd.DataFrame({\n",
    "    'ORG': pd.Series(org_freq),\n",
    "    'PERSON': pd.Series(people_freq)\n",
    "}).fillna(0)  # Fill NaN values with 0"
   ]
  },
  {
   "cell_type": "code",
   "execution_count": null,
   "metadata": {},
   "outputs": [],
   "source": [
    "# Sum up frequencies per document (row) to get the general number of entities per document\n",
    "entity_counts_per_doc = data_filtered[['ORG', 'people']].applymap(len).sum(axis=1)"
   ]
  },
  {
   "cell_type": "code",
   "execution_count": null,
   "metadata": {},
   "outputs": [],
   "source": [
    "# Plotting entity frequency per entity type\n",
    "entity_freq_df.sum().plot(kind='bar', color=['#1f77b4', '#ff7f0e', '#2ca02c'])\n",
    "plt.title(\"Comparative Frequency of Entity Types\")\n",
    "plt.xlabel(\"Entity Type\")\n",
    "plt.ylabel(\"Frequency\")\n",
    "plt.show()"
   ]
  },
  {
   "cell_type": "code",
   "execution_count": null,
   "metadata": {},
   "outputs": [],
   "source": [
    "# Save the entities\n",
    "data_filtered.to_csv('../data/topics-enities.csv', index=False)"
   ]
  }
 ],
 "metadata": {
  "kernelspec": {
   "display_name": ".venv",
   "language": "python",
   "name": "python3"
  },
  "language_info": {
   "codemirror_mode": {
    "name": "ipython",
    "version": 3
   },
   "file_extension": ".py",
   "mimetype": "text/x-python",
   "name": "python",
   "nbconvert_exporter": "python",
   "pygments_lexer": "ipython3",
   "version": "3.12.9"
  }
 },
 "nbformat": 4,
 "nbformat_minor": 2
}
